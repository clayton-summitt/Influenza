{
 "cells": [
  {
   "cell_type": "code",
   "execution_count": 1,
   "metadata": {},
   "outputs": [
    {
     "name": "stdout",
     "output_type": "stream",
     "text": [
      "Requirement already satisfied: delphi-epidata in /Users/GuntherUlvanget/anaconda3/lib/python3.7/site-packages (0.0.4)\r\n",
      "Requirement already satisfied: requests>=2.7.0 in /Users/GuntherUlvanget/anaconda3/lib/python3.7/site-packages (from delphi-epidata) (2.21.0)\r\n",
      "Requirement already satisfied: idna<2.9,>=2.5 in /Users/GuntherUlvanget/anaconda3/lib/python3.7/site-packages (from requests>=2.7.0->delphi-epidata) (2.8)\r\n",
      "Requirement already satisfied: certifi>=2017.4.17 in /Users/GuntherUlvanget/anaconda3/lib/python3.7/site-packages (from requests>=2.7.0->delphi-epidata) (2019.11.28)\r\n",
      "Requirement already satisfied: chardet<3.1.0,>=3.0.2 in /Users/GuntherUlvanget/anaconda3/lib/python3.7/site-packages (from requests>=2.7.0->delphi-epidata) (3.0.4)\r\n",
      "Requirement already satisfied: urllib3<1.25,>=1.21.1 in /Users/GuntherUlvanget/anaconda3/lib/python3.7/site-packages (from requests>=2.7.0->delphi-epidata) (1.24.1)\r\n"
     ]
    }
   ],
   "source": [
    "! pip install delphi-epidata"
   ]
  },
  {
   "cell_type": "code",
   "execution_count": 3,
   "metadata": {},
   "outputs": [
    {
     "name": "stdout",
     "output_type": "stream",
     "text": [
      "1 success 11\n"
     ]
    }
   ],
   "source": [
    "# Import\n",
    "from delphi_epidata import Epidata\n",
    "# Fetch data\n",
    "res = Epidata.fluview(['nat'], [201440, Epidata.range(201501, 201510)])\n",
    "print(res['result'], res['message'], len(res['epidata']))"
   ]
  },
  {
   "cell_type": "code",
   "execution_count": 4,
   "metadata": {},
   "outputs": [
    {
     "data": {
      "text/plain": [
       "dict"
      ]
     },
     "execution_count": 4,
     "metadata": {},
     "output_type": "execute_result"
    }
   ],
   "source": [
    "type(res)"
   ]
  },
  {
   "cell_type": "raw",
   "metadata": {},
   "source": []
  }
 ],
 "metadata": {
  "kernelspec": {
   "display_name": "Python 3",
   "language": "python",
   "name": "python3"
  },
  "language_info": {
   "codemirror_mode": {
    "name": "ipython",
    "version": 3
   },
   "file_extension": ".py",
   "mimetype": "text/x-python",
   "name": "python",
   "nbconvert_exporter": "python",
   "pygments_lexer": "ipython3",
   "version": "3.7.3"
  }
 },
 "nbformat": 4,
 "nbformat_minor": 2
}
